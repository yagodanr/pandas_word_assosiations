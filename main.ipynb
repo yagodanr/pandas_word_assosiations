{
 "cells": [
  {
   "cell_type": "code",
   "execution_count": 31,
   "metadata": {},
   "outputs": [],
   "source": [
    "import pandas as pd"
   ]
  },
  {
   "cell_type": "markdown",
   "metadata": {},
   "source": [
    "Read all data from csv file."
   ]
  },
  {
   "cell_type": "code",
   "execution_count": 48,
   "metadata": {},
   "outputs": [],
   "source": [
    "word_association_men = pd.read_csv('EDA_with_Pandas.csv')\n",
    "word_association_women = pd.read_csv('women_EDA.csv')"
   ]
  },
  {
   "cell_type": "code",
   "execution_count": 49,
   "metadata": {},
   "outputs": [
    {
     "data": {
      "text/html": [
       "<div>\n",
       "<style scoped>\n",
       "    .dataframe tbody tr th:only-of-type {\n",
       "        vertical-align: middle;\n",
       "    }\n",
       "\n",
       "    .dataframe tbody tr th {\n",
       "        vertical-align: top;\n",
       "    }\n",
       "\n",
       "    .dataframe thead th {\n",
       "        text-align: right;\n",
       "    }\n",
       "</style>\n",
       "<table border=\"1\" class=\"dataframe\">\n",
       "  <thead>\n",
       "    <tr style=\"text-align: right;\">\n",
       "      <th></th>\n",
       "      <th>Стимул</th>\n",
       "      <th>Реакція</th>\n",
       "      <th>Кількість реакцій</th>\n",
       "      <th>Загальна кількість реакцій</th>\n",
       "      <th>Кількість найчастіших реакцій</th>\n",
       "      <th>Тип асоціації</th>\n",
       "    </tr>\n",
       "  </thead>\n",
       "  <tbody>\n",
       "    <tr>\n",
       "      <th>0</th>\n",
       "      <td>зауваження</td>\n",
       "      <td>вчитель</td>\n",
       "      <td>4</td>\n",
       "      <td>101.0</td>\n",
       "      <td>16.0</td>\n",
       "      <td>слово контексту</td>\n",
       "    </tr>\n",
       "    <tr>\n",
       "      <th>1</th>\n",
       "      <td>зауваження</td>\n",
       "      <td>вчителя</td>\n",
       "      <td>4</td>\n",
       "      <td>101.0</td>\n",
       "      <td>16.0</td>\n",
       "      <td>слово контексту</td>\n",
       "    </tr>\n",
       "    <tr>\n",
       "      <th>2</th>\n",
       "      <td>зауваження</td>\n",
       "      <td>порада</td>\n",
       "      <td>4</td>\n",
       "      <td>101.0</td>\n",
       "      <td>16.0</td>\n",
       "      <td>синонім</td>\n",
       "    </tr>\n",
       "    <tr>\n",
       "      <th>3</th>\n",
       "      <td>зауваження</td>\n",
       "      <td>школа</td>\n",
       "      <td>4</td>\n",
       "      <td>101.0</td>\n",
       "      <td>16.0</td>\n",
       "      <td>слово контексту</td>\n",
       "    </tr>\n",
       "    <tr>\n",
       "      <th>4</th>\n",
       "      <td>зауважити</td>\n",
       "      <td>помилку</td>\n",
       "      <td>11</td>\n",
       "      <td>100.0</td>\n",
       "      <td>30.0</td>\n",
       "      <td>слово контексту</td>\n",
       "    </tr>\n",
       "  </tbody>\n",
       "</table>\n",
       "</div>"
      ],
      "text/plain": [
       "       Стимул  Реакція  Кількість реакцій  Загальна кількість реакцій  \\\n",
       "0  зауваження  вчитель                  4                       101.0   \n",
       "1  зауваження  вчителя                  4                       101.0   \n",
       "2  зауваження   порада                  4                       101.0   \n",
       "3  зауваження    школа                  4                       101.0   \n",
       "4   зауважити  помилку                 11                       100.0   \n",
       "\n",
       "   Кількість найчастіших реакцій    Тип асоціації  \n",
       "0                           16.0  слово контексту  \n",
       "1                           16.0  слово контексту  \n",
       "2                           16.0          синонім  \n",
       "3                           16.0  слово контексту  \n",
       "4                           30.0  слово контексту  "
      ]
     },
     "execution_count": 49,
     "metadata": {},
     "output_type": "execute_result"
    }
   ],
   "source": [
    "cols = ['Загальна кількість реакцій', 'Кількість найчастіших реакцій']\n",
    "word_association_men.loc[:,cols] = word_association_men.loc[:,cols].ffill()\n",
    "word_association_men.head()"
   ]
  },
  {
   "cell_type": "code",
   "execution_count": null,
   "metadata": {},
   "outputs": [
    {
     "data": {
      "text/plain": [
       "Тип асоціації\n",
       "слово контексту    780\n",
       "синонім            219\n",
       "антонім             33\n",
       "Name: count, dtype: int64"
      ]
     },
     "execution_count": 34,
     "metadata": {},
     "output_type": "execute_result"
    }
   ],
   "source": [
    "type_association = word_association_men['Тип асоціації'].value_counts()\n",
    "type_association"
   ]
  },
  {
   "cell_type": "code",
   "execution_count": 59,
   "metadata": {},
   "outputs": [
    {
     "data": {
      "text/html": [
       "<div>\n",
       "<style scoped>\n",
       "    .dataframe tbody tr th:only-of-type {\n",
       "        vertical-align: middle;\n",
       "    }\n",
       "\n",
       "    .dataframe tbody tr th {\n",
       "        vertical-align: top;\n",
       "    }\n",
       "\n",
       "    .dataframe thead th {\n",
       "        text-align: right;\n",
       "    }\n",
       "</style>\n",
       "<table border=\"1\" class=\"dataframe\">\n",
       "  <thead>\n",
       "    <tr style=\"text-align: right;\">\n",
       "      <th></th>\n",
       "      <th>Реакція</th>\n",
       "      <th>Кількість реакцій</th>\n",
       "    </tr>\n",
       "    <tr>\n",
       "      <th>Стимул</th>\n",
       "      <th></th>\n",
       "      <th></th>\n",
       "    </tr>\n",
       "  </thead>\n",
       "  <tbody>\n",
       "    <tr>\n",
       "      <th>неприємний</th>\n",
       "      <td>запах</td>\n",
       "      <td>43</td>\n",
       "    </tr>\n",
       "    <tr>\n",
       "      <th>калина</th>\n",
       "      <td>червона</td>\n",
       "      <td>41</td>\n",
       "    </tr>\n",
       "    <tr>\n",
       "      <th>пізнати</th>\n",
       "      <td>себе</td>\n",
       "      <td>41</td>\n",
       "    </tr>\n",
       "    <tr>\n",
       "      <th>питання</th>\n",
       "      <td>відповідь</td>\n",
       "      <td>40</td>\n",
       "    </tr>\n",
       "    <tr>\n",
       "      <th>країна</th>\n",
       "      <td>Україна</td>\n",
       "      <td>39</td>\n",
       "    </tr>\n",
       "  </tbody>\n",
       "</table>\n",
       "</div>"
      ],
      "text/plain": [
       "              Реакція  Кількість реакцій\n",
       "Стимул                                  \n",
       "неприємний      запах                 43\n",
       "калина        червона                 41\n",
       "пізнати          себе                 41\n",
       "питання     відповідь                 40\n",
       "країна        Україна                 39"
      ]
     },
     "execution_count": 59,
     "metadata": {},
     "output_type": "execute_result"
    }
   ],
   "source": [
    "the_most_frequent_reactions_of_men = word_association_men.groupby(['Реакція', 'Стимул'], as_index=False)['Кількість реакцій']\\\n",
    "                                    .sum().sort_values(by='Кількість реакцій', ascending=False).set_index('Стимул')\n",
    "the_most_frequent_reactions_of_men.head()"
   ]
  },
  {
   "cell_type": "code",
   "execution_count": 66,
   "metadata": {},
   "outputs": [
    {
     "data": {
      "text/html": [
       "<div>\n",
       "<style scoped>\n",
       "    .dataframe tbody tr th:only-of-type {\n",
       "        vertical-align: middle;\n",
       "    }\n",
       "\n",
       "    .dataframe tbody tr th {\n",
       "        vertical-align: top;\n",
       "    }\n",
       "\n",
       "    .dataframe thead th {\n",
       "        text-align: right;\n",
       "    }\n",
       "</style>\n",
       "<table border=\"1\" class=\"dataframe\">\n",
       "  <thead>\n",
       "    <tr style=\"text-align: right;\">\n",
       "      <th></th>\n",
       "      <th>Реакція</th>\n",
       "      <th>Кількість реакцій</th>\n",
       "    </tr>\n",
       "    <tr>\n",
       "      <th>Стимул</th>\n",
       "      <th></th>\n",
       "      <th></th>\n",
       "    </tr>\n",
       "  </thead>\n",
       "  <tbody>\n",
       "    <tr>\n",
       "      <th>завтрашній</th>\n",
       "      <td>день</td>\n",
       "      <td>85</td>\n",
       "    </tr>\n",
       "    <tr>\n",
       "      <th>сьогоднішній</th>\n",
       "      <td>день</td>\n",
       "      <td>74</td>\n",
       "    </tr>\n",
       "    <tr>\n",
       "      <th>заробити</th>\n",
       "      <td>гроші</td>\n",
       "      <td>70</td>\n",
       "    </tr>\n",
       "    <tr>\n",
       "      <th>заробляти</th>\n",
       "      <td>гроші</td>\n",
       "      <td>69</td>\n",
       "    </tr>\n",
       "    <tr>\n",
       "      <th>вірний</th>\n",
       "      <td>друг</td>\n",
       "      <td>62</td>\n",
       "    </tr>\n",
       "  </tbody>\n",
       "</table>\n",
       "</div>"
      ],
      "text/plain": [
       "             Реакція  Кількість реакцій\n",
       "Стимул                                 \n",
       "завтрашній      день                 85\n",
       "сьогоднішній    день                 74\n",
       "заробити       гроші                 70\n",
       "заробляти      гроші                 69\n",
       "вірний          друг                 62"
      ]
     },
     "execution_count": 66,
     "metadata": {},
     "output_type": "execute_result"
    }
   ],
   "source": [
    "the_most_frequent_reactions_of_women = word_association_women.groupby(['Реакція', 'Стимул'], as_index=False)['Кількість реакцій']\\\n",
    "                                    .sum().sort_values(by='Кількість реакцій', ascending=False).set_index('Стимул')\n",
    "the_most_frequent_reactions_of_women.head()"
   ]
  }
 ],
 "metadata": {
  "kernelspec": {
   "display_name": "Python 3",
   "language": "python",
   "name": "python3"
  },
  "language_info": {
   "codemirror_mode": {
    "name": "ipython",
    "version": 3
   },
   "file_extension": ".py",
   "mimetype": "text/x-python",
   "name": "python",
   "nbconvert_exporter": "python",
   "pygments_lexer": "ipython3",
   "version": "3.12.5"
  }
 },
 "nbformat": 4,
 "nbformat_minor": 2
}
