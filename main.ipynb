{
 "cells": [
  {
   "cell_type": "code",
   "execution_count": 1,
   "metadata": {},
   "outputs": [],
   "source": [
    "import pandas as pd\n",
    "from wordcloud import WordCloud\n",
    "import matplotlib.pyplot as plt"
   ]
  },
  {
   "cell_type": "markdown",
   "metadata": {},
   "source": [
    "Read all data from csv file."
   ]
  },
  {
   "cell_type": "code",
   "execution_count": 2,
   "metadata": {},
   "outputs": [],
   "source": [
    "word_association_men = pd.read_csv('EDA_with_Pandas.csv')\n",
    "word_association_women = pd.read_csv('women_EDA.csv')"
   ]
  },
  {
   "cell_type": "code",
   "execution_count": 3,
   "metadata": {},
   "outputs": [
    {
     "data": {
      "text/html": [
       "<div>\n",
       "<style scoped>\n",
       "    .dataframe tbody tr th:only-of-type {\n",
       "        vertical-align: middle;\n",
       "    }\n",
       "\n",
       "    .dataframe tbody tr th {\n",
       "        vertical-align: top;\n",
       "    }\n",
       "\n",
       "    .dataframe thead th {\n",
       "        text-align: right;\n",
       "    }\n",
       "</style>\n",
       "<table border=\"1\" class=\"dataframe\">\n",
       "  <thead>\n",
       "    <tr style=\"text-align: right;\">\n",
       "      <th></th>\n",
       "      <th>Стимул</th>\n",
       "      <th>Реакція</th>\n",
       "      <th>Кількість реакцій</th>\n",
       "      <th>Загальна кількість реакцій</th>\n",
       "      <th>Кількість найчастіших реакцій</th>\n",
       "      <th>Тип асоціації</th>\n",
       "    </tr>\n",
       "  </thead>\n",
       "  <tbody>\n",
       "    <tr>\n",
       "      <th>0</th>\n",
       "      <td>зауваження</td>\n",
       "      <td>вчитель</td>\n",
       "      <td>4</td>\n",
       "      <td>101.0</td>\n",
       "      <td>16.0</td>\n",
       "      <td>слово контексту</td>\n",
       "    </tr>\n",
       "    <tr>\n",
       "      <th>1</th>\n",
       "      <td>зауваження</td>\n",
       "      <td>вчителя</td>\n",
       "      <td>4</td>\n",
       "      <td>101.0</td>\n",
       "      <td>16.0</td>\n",
       "      <td>слово контексту</td>\n",
       "    </tr>\n",
       "    <tr>\n",
       "      <th>2</th>\n",
       "      <td>зауваження</td>\n",
       "      <td>порада</td>\n",
       "      <td>4</td>\n",
       "      <td>101.0</td>\n",
       "      <td>16.0</td>\n",
       "      <td>синонім</td>\n",
       "    </tr>\n",
       "    <tr>\n",
       "      <th>3</th>\n",
       "      <td>зауваження</td>\n",
       "      <td>школа</td>\n",
       "      <td>4</td>\n",
       "      <td>101.0</td>\n",
       "      <td>16.0</td>\n",
       "      <td>слово контексту</td>\n",
       "    </tr>\n",
       "    <tr>\n",
       "      <th>4</th>\n",
       "      <td>зауважити</td>\n",
       "      <td>помилку</td>\n",
       "      <td>11</td>\n",
       "      <td>100.0</td>\n",
       "      <td>30.0</td>\n",
       "      <td>слово контексту</td>\n",
       "    </tr>\n",
       "  </tbody>\n",
       "</table>\n",
       "</div>"
      ],
      "text/plain": [
       "       Стимул  Реакція  Кількість реакцій  Загальна кількість реакцій  \\\n",
       "0  зауваження  вчитель                  4                       101.0   \n",
       "1  зауваження  вчителя                  4                       101.0   \n",
       "2  зауваження   порада                  4                       101.0   \n",
       "3  зауваження    школа                  4                       101.0   \n",
       "4   зауважити  помилку                 11                       100.0   \n",
       "\n",
       "   Кількість найчастіших реакцій    Тип асоціації  \n",
       "0                           16.0  слово контексту  \n",
       "1                           16.0  слово контексту  \n",
       "2                           16.0          синонім  \n",
       "3                           16.0  слово контексту  \n",
       "4                           30.0  слово контексту  "
      ]
     },
     "execution_count": 3,
     "metadata": {},
     "output_type": "execute_result"
    }
   ],
   "source": [
    "cols = ['Загальна кількість реакцій', 'Кількість найчастіших реакцій']\n",
    "word_association_men.loc[:,cols] = word_association_men.loc[:,cols].ffill()\n",
    "word_association_men.head()"
   ]
  },
  {
   "cell_type": "code",
   "execution_count": 4,
   "metadata": {},
   "outputs": [
    {
     "data": {
      "text/plain": [
       "Тип асоціації\n",
       "слово контексту    780\n",
       "синонім            219\n",
       "антонім             33\n",
       "Name: count, dtype: int64"
      ]
     },
     "execution_count": 4,
     "metadata": {},
     "output_type": "execute_result"
    }
   ],
   "source": [
    "type_association = word_association_men['Тип асоціації'].value_counts()\n",
    "type_association"
   ]
  },
  {
   "cell_type": "code",
   "execution_count": 5,
   "metadata": {},
   "outputs": [
    {
     "data": {
      "text/html": [
       "<div>\n",
       "<style scoped>\n",
       "    .dataframe tbody tr th:only-of-type {\n",
       "        vertical-align: middle;\n",
       "    }\n",
       "\n",
       "    .dataframe tbody tr th {\n",
       "        vertical-align: top;\n",
       "    }\n",
       "\n",
       "    .dataframe thead th {\n",
       "        text-align: right;\n",
       "    }\n",
       "</style>\n",
       "<table border=\"1\" class=\"dataframe\">\n",
       "  <thead>\n",
       "    <tr style=\"text-align: right;\">\n",
       "      <th></th>\n",
       "      <th>Стимул</th>\n",
       "      <th>Загальна кількість реакцій</th>\n",
       "      <th>Кількість найчастіших реакцій</th>\n",
       "    </tr>\n",
       "  </thead>\n",
       "  <tbody>\n",
       "    <tr>\n",
       "      <th>0</th>\n",
       "      <td>зауваження</td>\n",
       "      <td>101.0</td>\n",
       "      <td>16.0</td>\n",
       "    </tr>\n",
       "    <tr>\n",
       "      <th>1</th>\n",
       "      <td>зауваження</td>\n",
       "      <td>101.0</td>\n",
       "      <td>16.0</td>\n",
       "    </tr>\n",
       "    <tr>\n",
       "      <th>2</th>\n",
       "      <td>зауваження</td>\n",
       "      <td>101.0</td>\n",
       "      <td>16.0</td>\n",
       "    </tr>\n",
       "    <tr>\n",
       "      <th>3</th>\n",
       "      <td>зауваження</td>\n",
       "      <td>101.0</td>\n",
       "      <td>16.0</td>\n",
       "    </tr>\n",
       "    <tr>\n",
       "      <th>4</th>\n",
       "      <td>зауважити</td>\n",
       "      <td>100.0</td>\n",
       "      <td>30.0</td>\n",
       "    </tr>\n",
       "    <tr>\n",
       "      <th>...</th>\n",
       "      <td>...</td>\n",
       "      <td>...</td>\n",
       "      <td>...</td>\n",
       "    </tr>\n",
       "    <tr>\n",
       "      <th>1027</th>\n",
       "      <td>поміркувати</td>\n",
       "      <td>100.0</td>\n",
       "      <td>18.0</td>\n",
       "    </tr>\n",
       "    <tr>\n",
       "      <th>1028</th>\n",
       "      <td>поміч</td>\n",
       "      <td>99.0</td>\n",
       "      <td>31.0</td>\n",
       "    </tr>\n",
       "    <tr>\n",
       "      <th>1029</th>\n",
       "      <td>поміч</td>\n",
       "      <td>99.0</td>\n",
       "      <td>31.0</td>\n",
       "    </tr>\n",
       "    <tr>\n",
       "      <th>1030</th>\n",
       "      <td>поміч</td>\n",
       "      <td>99.0</td>\n",
       "      <td>31.0</td>\n",
       "    </tr>\n",
       "    <tr>\n",
       "      <th>1031</th>\n",
       "      <td>поміч</td>\n",
       "      <td>99.0</td>\n",
       "      <td>31.0</td>\n",
       "    </tr>\n",
       "  </tbody>\n",
       "</table>\n",
       "<p>1032 rows × 3 columns</p>\n",
       "</div>"
      ],
      "text/plain": [
       "           Стимул  Загальна кількість реакцій  Кількість найчастіших реакцій\n",
       "0      зауваження                       101.0                           16.0\n",
       "1      зауваження                       101.0                           16.0\n",
       "2      зауваження                       101.0                           16.0\n",
       "3      зауваження                       101.0                           16.0\n",
       "4       зауважити                       100.0                           30.0\n",
       "...           ...                         ...                            ...\n",
       "1027  поміркувати                       100.0                           18.0\n",
       "1028        поміч                        99.0                           31.0\n",
       "1029        поміч                        99.0                           31.0\n",
       "1030        поміч                        99.0                           31.0\n",
       "1031        поміч                        99.0                           31.0\n",
       "\n",
       "[1032 rows x 3 columns]"
      ]
     },
     "execution_count": 5,
     "metadata": {},
     "output_type": "execute_result"
    }
   ],
   "source": [
    "num_of_association = word_association_men[word_association_men['Загальна кількість реакцій'].notna()][[\n",
    "    'Стимул', 'Загальна кількість реакцій', 'Кількість найчастіших реакцій']]\n",
    "num_of_association"
   ]
  },
  {
   "cell_type": "code",
   "execution_count": 6,
   "metadata": {},
   "outputs": [
    {
     "data": {
      "text/plain": [
       "103"
      ]
     },
     "execution_count": 6,
     "metadata": {},
     "output_type": "execute_result"
    }
   ],
   "source": [
    "mean_freq = int(num_of_association['Загальна кількість реакцій'].mean())\n",
    "mean_freq"
   ]
  },
  {
   "cell_type": "code",
   "execution_count": 7,
   "metadata": {},
   "outputs": [
    {
     "data": {
      "text/plain": [
       "29"
      ]
     },
     "execution_count": 7,
     "metadata": {},
     "output_type": "execute_result"
    }
   ],
   "source": [
    "mean_most_freq = int(\n",
    "    num_of_association['Кількість найчастіших реакцій'].mean())\n",
    "mean_most_freq"
   ]
  },
  {
   "cell_type": "code",
   "execution_count": 8,
   "metadata": {},
   "outputs": [
    {
     "data": {
      "text/html": [
       "<div>\n",
       "<style scoped>\n",
       "    .dataframe tbody tr th:only-of-type {\n",
       "        vertical-align: middle;\n",
       "    }\n",
       "\n",
       "    .dataframe tbody tr th {\n",
       "        vertical-align: top;\n",
       "    }\n",
       "\n",
       "    .dataframe thead th {\n",
       "        text-align: right;\n",
       "    }\n",
       "</style>\n",
       "<table border=\"1\" class=\"dataframe\">\n",
       "  <thead>\n",
       "    <tr style=\"text-align: right;\">\n",
       "      <th></th>\n",
       "      <th>Стимул</th>\n",
       "      <th>Кількість найчастіших реакцій</th>\n",
       "    </tr>\n",
       "  </thead>\n",
       "  <tbody>\n",
       "    <tr>\n",
       "      <th>4</th>\n",
       "      <td>зауважити</td>\n",
       "      <td>30.0</td>\n",
       "    </tr>\n",
       "    <tr>\n",
       "      <th>5</th>\n",
       "      <td>зауважити</td>\n",
       "      <td>30.0</td>\n",
       "    </tr>\n",
       "    <tr>\n",
       "      <th>6</th>\n",
       "      <td>зауважити</td>\n",
       "      <td>30.0</td>\n",
       "    </tr>\n",
       "    <tr>\n",
       "      <th>7</th>\n",
       "      <td>зауважити</td>\n",
       "      <td>30.0</td>\n",
       "    </tr>\n",
       "    <tr>\n",
       "      <th>8</th>\n",
       "      <td>зауважити</td>\n",
       "      <td>30.0</td>\n",
       "    </tr>\n",
       "    <tr>\n",
       "      <th>...</th>\n",
       "      <td>...</td>\n",
       "      <td>...</td>\n",
       "    </tr>\n",
       "    <tr>\n",
       "      <th>1020</th>\n",
       "      <td>помаранчевий</td>\n",
       "      <td>41.0</td>\n",
       "    </tr>\n",
       "    <tr>\n",
       "      <th>1028</th>\n",
       "      <td>поміч</td>\n",
       "      <td>31.0</td>\n",
       "    </tr>\n",
       "    <tr>\n",
       "      <th>1029</th>\n",
       "      <td>поміч</td>\n",
       "      <td>31.0</td>\n",
       "    </tr>\n",
       "    <tr>\n",
       "      <th>1030</th>\n",
       "      <td>поміч</td>\n",
       "      <td>31.0</td>\n",
       "    </tr>\n",
       "    <tr>\n",
       "      <th>1031</th>\n",
       "      <td>поміч</td>\n",
       "      <td>31.0</td>\n",
       "    </tr>\n",
       "  </tbody>\n",
       "</table>\n",
       "<p>427 rows × 2 columns</p>\n",
       "</div>"
      ],
      "text/plain": [
       "            Стимул  Кількість найчастіших реакцій\n",
       "4        зауважити                           30.0\n",
       "5        зауважити                           30.0\n",
       "6        зауважити                           30.0\n",
       "7        зауважити                           30.0\n",
       "8        зауважити                           30.0\n",
       "...            ...                            ...\n",
       "1020  помаранчевий                           41.0\n",
       "1028         поміч                           31.0\n",
       "1029         поміч                           31.0\n",
       "1030         поміч                           31.0\n",
       "1031         поміч                           31.0\n",
       "\n",
       "[427 rows x 2 columns]"
      ]
     },
     "execution_count": 8,
     "metadata": {},
     "output_type": "execute_result"
    }
   ],
   "source": [
    "stimul_above_mean = num_of_association[num_of_association['Кількість найчастіших реакцій'] > mean_most_freq][[\n",
    "    'Стимул', 'Кількість найчастіших реакцій']]\n",
    "stimul_above_mean"
   ]
  },
  {
   "cell_type": "code",
   "execution_count": 9,
   "metadata": {},
   "outputs": [
    {
     "data": {
      "image/png": "[encoded data removed]",
      "text/plain": [
       "<Figure size 1000x500 with 1 Axes>"
      ]
     },
     "metadata": {},
     "output_type": "display_data"
    }
   ],
   "source": [
    "specific_word = \"памʼять\"\n",
    "filtered_data = word_association_men[word_association_men['Стимул'].str.contains(\n",
    "    specific_word, na=False)]\n",
    "\n",
    "weighted_text = ' '.join((row['Реакція'] + ' ') * row['Кількість реакцій']\n",
    "                         for _, row in filtered_data.iterrows())\n",
    "\n",
    "wordcloud = WordCloud(width=800, height=400,\n",
    "                      background_color='white').generate(weighted_text)\n",
    "\n",
    "plt.figure(figsize=(10, 5))\n",
    "plt.imshow(wordcloud, interpolation='bilinear')\n",
    "plt.axis('off')\n",
    "plt.show()"
   ]
  },
  {
   "cell_type": "code",
   "execution_count": 10,
   "metadata": {},
   "outputs": [
    {
     "data": {
      "text/plain": [
       "29"
      ]
     },
     "execution_count": 10,
     "metadata": {},
     "output_type": "execute_result"
    }
   ],
   "source": [
    "mean_most_freq = int(\n",
    "    num_of_association['Кількість найчастіших реакцій'].mean())\n",
    "mean_most_freq"
   ]
  },
  {
   "cell_type": "code",
   "execution_count": 11,
   "metadata": {},
   "outputs": [
    {
     "data": {
      "text/html": [
       "<div>\n",
       "<style scoped>\n",
       "    .dataframe tbody tr th:only-of-type {\n",
       "        vertical-align: middle;\n",
       "    }\n",
       "\n",
       "    .dataframe tbody tr th {\n",
       "        vertical-align: top;\n",
       "    }\n",
       "\n",
       "    .dataframe thead th {\n",
       "        text-align: right;\n",
       "    }\n",
       "</style>\n",
       "<table border=\"1\" class=\"dataframe\">\n",
       "  <thead>\n",
       "    <tr style=\"text-align: right;\">\n",
       "      <th></th>\n",
       "      <th>Реакція</th>\n",
       "      <th>Кількість реакцій</th>\n",
       "    </tr>\n",
       "    <tr>\n",
       "      <th>Стимул</th>\n",
       "      <th></th>\n",
       "      <th></th>\n",
       "    </tr>\n",
       "  </thead>\n",
       "  <tbody>\n",
       "    <tr>\n",
       "      <th>завтрашній</th>\n",
       "      <td>день</td>\n",
       "      <td>85</td>\n",
       "    </tr>\n",
       "    <tr>\n",
       "      <th>сьогоднішній</th>\n",
       "      <td>день</td>\n",
       "      <td>74</td>\n",
       "    </tr>\n",
       "    <tr>\n",
       "      <th>заробити</th>\n",
       "      <td>гроші</td>\n",
       "      <td>70</td>\n",
       "    </tr>\n",
       "    <tr>\n",
       "      <th>заробляти</th>\n",
       "      <td>гроші</td>\n",
       "      <td>69</td>\n",
       "    </tr>\n",
       "    <tr>\n",
       "      <th>вірний</th>\n",
       "      <td>друг</td>\n",
       "      <td>62</td>\n",
       "    </tr>\n",
       "  </tbody>\n",
       "</table>\n",
       "</div>"
      ],
      "text/plain": [
       "             Реакція  Кількість реакцій\n",
       "Стимул                                 \n",
       "завтрашній      день                 85\n",
       "сьогоднішній    день                 74\n",
       "заробити       гроші                 70\n",
       "заробляти      гроші                 69\n",
       "вірний          друг                 62"
      ]
     },
     "execution_count": 11,
     "metadata": {},
     "output_type": "execute_result"
    }
   ],
   "source": [
    "the_most_frequent_reactions_of_women = word_association_women.groupby(['Реакція', 'Стимул'], as_index=False)['Кількість реакцій']\\\n",
    "                                    .sum().sort_values(by='Кількість реакцій', ascending=False).set_index('Стимул')\n",
    "the_most_frequent_reactions_of_women.head()"
   ]
  },
  {
   "cell_type": "markdown",
   "metadata": {},
   "source": [
    "## Сумарна кількість реакцій певного типу асоціацій для кожного стимулу "
   ]
  },
  {
   "cell_type": "code",
   "execution_count": null,
   "metadata": {},
   "outputs": [
    {
     "name": "stdout",
     "output_type": "stream",
     "text": [
      "    слово контексту            синонім        антонім\n",
      "0     (пізнати, 85)        (оселя, 55)    (зліва, 48)\n",
      "1      (калина, 59)     (побратим, 54)    (лівий, 33)\n",
      "2        (мова, 55)      (переляк, 40)      (зло, 24)\n",
      "3  (неприємний, 54)        (лихий, 37)     (нога, 16)\n",
      "4     (минулий, 52)  (побоюватися, 37)      (ніч, 15)\n",
      "5      (молода, 51)   (побоювання, 36)   (інколи, 13)\n",
      "6    (побажати, 50)   (міркування, 33)   (погано, 12)\n",
      "7    (їстівний, 49)       (знаний, 32)   (минуле, 11)\n",
      "8        (зорі, 49)         (лихо, 31)  (можливо, 10)\n",
      "9      (країна, 48)     (подружжя, 28)  (молодіти, 9)\n"
     ]
    }
   ],
   "source": [
    "HEAD = 10\n",
    "\n",
    "# Initialize an empty dictionary to store columns\n",
    "columns = {}\n",
    "\n",
    "# Unique reaction types\n",
    "REACTION_TYPES_CHOICES = word_association_men[\"Тип асоціації\"].unique()\n",
    "\n",
    "# Group by \"Стимул\" and \"Тип асоціації\" and sum \"Кількість реакцій\"\n",
    "reactions_types = word_association_men.groupby([\"Стимул\", \"Тип асоціації\"])[\"Кількість реакцій\"].sum()\n",
    "\n",
    "for ch in REACTION_TYPES_CHOICES:\n",
    "    # Filter for the current \"Тип асоціації\"\n",
    "    reactions_for_ch = reactions_types.xs(ch, level=\"Тип асоціації\")\n",
    "\n",
    "    # Sort by total sums in descending order\n",
    "    sorted_reactions = reactions_for_ch.sort_values(ascending=False)\n",
    "\n",
    "    # Take the top `HEAD` entries and store in the dictionary\n",
    "    # print(sorted_reactions.head(HEAD).reset_index())\n",
    "    # print(sorted_reactions.head(HEAD).reset_index().apply(lambda x: (x[\"Стимул\"], x[\"Кількість реакцій\"]), axis=\"columns\"))\n",
    "\n",
    "    columns[ch] = sorted_reactions.reset_index().apply(\n",
    "        lambda x: (x[\"Стимул\"], x[\"Кількість реакцій\"]),\n",
    "        axis=\"columns\"\n",
    "    )\n",
    "\n",
    "# print(columns)\n",
    "# Create the final DataFrame\n",
    "output = pd.DataFrame(columns)\n",
    "\n",
    "# Display the result\n",
    "print(output.head(HEAD))\n",
    "# print(output.describe())\n",
    "\n"
   ]
  },
  {
   "cell_type": "markdown",
   "metadata": {},
   "source": []
  }
 ],
 "metadata": {
  "kernelspec": {
   "display_name": "Python 3",
   "language": "python",
   "name": "python3"
  },
  "language_info": {
   "codemirror_mode": {
    "name": "ipython",
    "version": 3
   },
   "file_extension": ".py",
   "mimetype": "text/x-python",
   "name": "python",
   "nbconvert_exporter": "python",
   "pygments_lexer": "ipython3",
   "version": "3.12.5"
  }
 },
 "nbformat": 4,
 "nbformat_minor": 2
}
